{
 "cells": [
  {
   "cell_type": "code",
   "execution_count": 2,
   "metadata": {},
   "outputs": [
    {
     "name": "stdout",
     "output_type": "stream",
     "text": [
      "1\n",
      "-1\n",
      "1\n",
      "1\n",
      "0\n"
     ]
    }
   ],
   "source": [
    "class Solution():\n",
    "    def __init__(self, num):\n",
    "        self.num = num\n",
    "\n",
    "    def ClosestToZero(self) -> int:\n",
    "        closest = self.num[0]\n",
    "        for x in self.num:\n",
    "            if abs(x) < abs(closest):\n",
    "                closest = x\n",
    "\n",
    "        if closest < 0 and abs(closest) in self.num:\n",
    "            return abs(closest)\n",
    "        else:\n",
    "            return closest\n",
    "        \n",
    "# Testing the Solution class\n",
    "\n",
    "# Example 1: A mix of positive and negative numbers\n",
    "solution1 = Solution([2, -3, 1, -4, 3])\n",
    "print(solution1.ClosestToZero())  # Output should be 1 (since 1 is closest to 0)\n",
    "\n",
    "# Example 2: All negative numbers\n",
    "solution2 = Solution([-2, -3, -1, -4, -5])\n",
    "print(solution2.ClosestToZero())  # Output should be -1 (since -1 is closest to 0)\n",
    "\n",
    "# Example 3: All positive numbers\n",
    "solution3 = Solution([2, 3, 1, 4, 5])\n",
    "print(solution3.ClosestToZero())  # Output should be 1 (since 1 is closest to 0)\n",
    "\n",
    "# Example 4: Mixed positive and negative, with duplicates\n",
    "solution4 = Solution([-1, 1, -2, 2])\n",
    "print(solution4.ClosestToZero())  # Output should be 1 (since both -1 and 1 are closest, but 1 is larger)\n",
    "\n",
    "# Example 5: Array with zero\n",
    "solution5 = Solution([0, 2, -2])\n",
    "print(solution5.ClosestToZero())  # Output should be 0 (since 0 is closest to itself)\n"
   ]
  }
 ],
 "metadata": {
  "kernelspec": {
   "display_name": "Python (myenv)",
   "language": "python",
   "name": "myenv"
  },
  "language_info": {
   "codemirror_mode": {
    "name": "ipython",
    "version": 3
   },
   "file_extension": ".py",
   "mimetype": "text/x-python",
   "name": "python",
   "nbconvert_exporter": "python",
   "pygments_lexer": "ipython3",
   "version": "3.12.5"
  }
 },
 "nbformat": 4,
 "nbformat_minor": 2
}
